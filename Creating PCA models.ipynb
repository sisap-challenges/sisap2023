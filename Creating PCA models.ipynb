{
 "cells": [
  {
   "cell_type": "code",
   "execution_count": 3,
   "metadata": {},
   "outputs": [
    {
     "name": "stderr",
     "output_type": "stream",
     "text": [
      "\u001b[32m\u001b[1m  Activating\u001b[22m\u001b[39m project at `~/Research/SISAP2023/sisap23-laion-challenge-example/demo`\n"
     ]
    }
   ],
   "source": [
    "using Pkg\n",
    "Pkg.activate(\".\")\n"
   ]
  },
  {
   "cell_type": "code",
   "execution_count": 4,
   "metadata": {},
   "outputs": [
    {
     "name": "stderr",
     "output_type": "stream",
     "text": [
      "\u001b[32m\u001b[1m    Updating\u001b[22m\u001b[39m registry at `~/.julia/registries/General.toml`\n",
      "\u001b[32m\u001b[1m   Resolving\u001b[22m\u001b[39m package versions...\n",
      "\u001b[32m\u001b[1m    Updating\u001b[22m\u001b[39m `~/Research/SISAP2023/sisap23-laion-challenge-example/demo/Project.toml`\n",
      " \u001b[90m [6f286f6a] \u001b[39m\u001b[92m+ MultivariateStats v0.10.1\u001b[39m\n",
      "\u001b[32m\u001b[1m    Updating\u001b[22m\u001b[39m `~/Research/SISAP2023/sisap23-laion-challenge-example/demo/Manifest.toml`\n",
      " \u001b[90m [7d9fca2a] \u001b[39m\u001b[92m+ Arpack v0.5.4\u001b[39m\n",
      " \u001b[90m [6f286f6a] \u001b[39m\u001b[92m+ MultivariateStats v0.10.1\u001b[39m\n",
      "\u001b[33m⌅\u001b[39m\u001b[90m [68821587] \u001b[39m\u001b[92m+ Arpack_jll v3.5.1+1\u001b[39m\n",
      "\u001b[36m\u001b[1m        Info\u001b[22m\u001b[39m Packages marked with \u001b[33m⌅\u001b[39m have new versions available but compatibility constraints restrict them from upgrading. To see why use `status --outdated -m`\n"
     ]
    }
   ],
   "source": [
    "#=Pkg.add([\n",
    "        PackageSpec(name=\"SimilaritySearch\"),\n",
    "        PackageSpec(name=\"TextSearch\"),\n",
    "        PackageSpec(name=\"JLD2\"),\n",
    "        PackageSpec(name=\"CSV\"),\n",
    "        PackageSpec(name=\"Parquet2\"),\n",
    "        PackageSpec(name=\"DataFrames\"),\n",
    "        PackageSpec(name=\"HypertextLiteral\"),\n",
    "        PackageSpec(name=\"MultivariateStats\"),\n",
    "])=#\n",
    "\n",
    "# Pkg.instantiate()"
   ]
  },
  {
   "cell_type": "code",
   "execution_count": 5,
   "metadata": {},
   "outputs": [],
   "source": [
    "using MultivariateStats, JLD2, LinearAlgebra\n",
    "using Downloads: download"
   ]
  },
  {
   "cell_type": "code",
   "execution_count": 6,
   "metadata": {},
   "outputs": [
    {
     "data": {
      "text/plain": [
       "\"laion2B-en-clip768-n=10M.h5\""
      ]
     },
     "execution_count": 6,
     "metadata": {},
     "output_type": "execute_result"
    }
   ],
   "source": [
    "dbname = \"laion2B-en-clip768-n=10M.h5\"\n"
   ]
  },
  {
   "cell_type": "code",
   "execution_count": null,
   "metadata": {},
   "outputs": [],
   "source": []
  },
  {
   "cell_type": "code",
   "execution_count": null,
   "metadata": {},
   "outputs": [],
   "source": []
  },
  {
   "cell_type": "code",
   "execution_count": 8,
   "metadata": {},
   "outputs": [
    {
     "data": {
      "text/plain": [
       "768×10120191 Matrix{Float32}:\n",
       " -0.00198019   0.0572678     0.0232026   …  -0.0202513     0.0263598\n",
       "  0.0431597    0.0524141    -0.00399676     -0.00521542    0.0682793\n",
       " -0.0124763    0.0426456     0.00502646     -0.00696661    0.00713912\n",
       " -0.042305     0.0502772    -0.0288621       0.0172906     0.0281599\n",
       "  0.0372077    0.00160455   -0.00401583     -0.020236     -0.0189156\n",
       "  0.0340333    0.0186059    -0.0147743   …   0.0241886     0.0417059\n",
       "  0.00724924  -0.000320529   0.0197855      -0.00311132   -0.00887814\n",
       "  0.0265398   -0.0136835     0.014965       -0.0121248     0.00105256\n",
       " -0.0227092   -0.0139125    -0.00678076      0.00693991    0.0222411\n",
       " -0.0385507    0.0235665     0.0197397      -0.0277444    -0.0215852\n",
       " -0.0104084   -0.0214449    -0.00288697  …   0.0311933     0.00150448\n",
       " -0.012751    -0.0362045    -0.0603175      -0.0264319    -0.00304137\n",
       " -0.0133462   -0.0294429     0.0279926      -0.0200376     0.00586918\n",
       "  ⋮                                      ⋱                 ⋮\n",
       " -0.0184207   -0.0120427    -0.0159413      -0.0101714     0.038472\n",
       "  0.0133081    0.0589468    -0.0281909       0.0188167    -0.0119214\n",
       " -0.0325681    0.0422793    -0.00243886      0.0322616    -0.00575859\n",
       " -0.0431291    0.0153701    -0.00201363     -0.00853086   -0.00452679\n",
       "  0.0155439   -0.00665097   -0.00401201  …  -0.0332078     0.0227598\n",
       " -0.00637933   0.0186212     0.05568        -0.0182826     0.0167037\n",
       " -0.0511872   -0.0611141    -0.0321571      -0.0100722    -0.0279463\n",
       "  0.0163299    0.0337318     0.0175888      -0.000178839   0.0329803\n",
       " -0.020542    -0.000930583   0.022989       -0.013834     -0.0040272\n",
       " -0.00828702   0.006899      0.0275807   …   0.0491402     0.0178478\n",
       " -0.00928665   0.0188654     0.0300062       0.0282327     0.0231716\n",
       " -0.0249374   -0.00812769   -0.026223       -0.0250432     0.0220428"
      ]
     },
     "execution_count": 8,
     "metadata": {},
     "output_type": "execute_result"
    }
   ],
   "source": [
    "X = jldopen(dbname) do f\n",
    "    X = Float32.(f[\"emb\"])\n",
    "    for c in eachcol(X)\n",
    "        normalize!(c)\n",
    "    end\n",
    "    \n",
    "    X\n",
    "end"
   ]
  },
  {
   "cell_type": "code",
   "execution_count": 10,
   "metadata": {},
   "outputs": [],
   "source": [
    "pca96 = fit(PCA, X; maxoutdim=96)\n",
    "pca32 = fit(PCA, X; maxoutdim=32)\n",
    "nothing"
   ]
  },
  {
   "cell_type": "code",
   "execution_count": 12,
   "metadata": {},
   "outputs": [],
   "source": [
    "jldsave(\"model-pca96-laion2B-10M.jld2\"; pca96)\n",
    "jldsave(\"model-pca32-laion2B-10M.jld2\"; pca32)\n",
    "nothing"
   ]
  },
  {
   "cell_type": "code",
   "execution_count": 14,
   "metadata": {},
   "outputs": [],
   "source": [
    "let\n",
    "    XX = predict(pca32, X)\n",
    "    jldsave(\"laion2B-en-pca32-n=10M-v2.h5\"; pca32=XX)\n",
    "end\n",
    "\n",
    "let\n",
    "    XX = predict(pca96, X)\n",
    "    jldsave(\"laion2B-en-pca96-n=10M-v2.h5\"; pca96=XX)\n",
    "end\n",
    "\n",
    "nothing"
   ]
  },
  {
   "cell_type": "code",
   "execution_count": null,
   "metadata": {
    "scrolled": true
   },
   "outputs": [],
   "source": []
  },
  {
   "cell_type": "code",
   "execution_count": null,
   "metadata": {},
   "outputs": [],
   "source": []
  },
  {
   "cell_type": "code",
   "execution_count": null,
   "metadata": {},
   "outputs": [],
   "source": []
  }
 ],
 "metadata": {
  "kernelspec": {
   "display_name": "Julia 64c 1.8.3",
   "language": "julia",
   "name": "julia-64c-1.8"
  },
  "language_info": {
   "file_extension": ".jl",
   "mimetype": "application/julia",
   "name": "julia",
   "version": "1.8.3"
  }
 },
 "nbformat": 4,
 "nbformat_minor": 2
}
